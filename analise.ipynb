{
 "cells": [
  {
   "cell_type": "markdown",
   "metadata": {},
   "source": [
    "## Análise de Dados com Python 📊"
   ]
  },
  {
   "cell_type": "markdown",
   "metadata": {},
   "source": [
    "Este notebook apresenta uma análise completa de um dataset de vendas, incluindo importação, tratamento, análise estatística e visualização de dados."
   ]
  },
  {
   "cell_type": "markdown",
   "metadata": {},
   "source": [
    "Transformação do arquivo JSON em arquivo CSV"
   ]
  },
  {
   "cell_type": "code",
   "execution_count": 3,
   "metadata": {},
   "outputs": [
    {
     "data": {
      "text/plain": [
       "'vendas.csv'"
      ]
     },
     "execution_count": 3,
     "metadata": {},
     "output_type": "execute_result"
    }
   ],
   "source": [
    "import pandas as pd\n",
    "import json\n",
    "\n",
    "# Carregar o dataset de vendas\n",
    "file_path = \"vendas.json\"\n",
    "with open(file_path, 'r', encoding='utf-8') as file:\n",
    "    data = json.load(file)\n",
    "\n",
    "# Criar um DataFrame\n",
    "df = pd.DataFrame(data)\n",
    "\n",
    "# Salvar o DataFrame tratado em um arquivo CSV para uso no notebook\n",
    "csv_path = \"vendas.csv\"\n",
    "df.to_csv(csv_path, index=False, encoding='utf-8')\n",
    "\n",
    "csv_path"
   ]
  },
  {
   "cell_type": "markdown",
   "metadata": {},
   "source": [
    " Importação das Bibliotecas Essenciais 📦"
   ]
  },
  {
   "cell_type": "code",
   "execution_count": 4,
   "metadata": {},
   "outputs": [],
   "source": [
    "import pandas as pd\n",
    "import matplotlib.pyplot as plt\n",
    "import seaborn as sns\n",
    "import numpy as np"
   ]
  },
  {
   "cell_type": "markdown",
   "metadata": {},
   "source": [
    "Carregamento e Visualização Inicial dos Dados 🗄️"
   ]
  },
  {
   "cell_type": "code",
   "execution_count": 6,
   "metadata": {},
   "outputs": [
    {
     "data": {
      "text/html": [
       "<div>\n",
       "<style scoped>\n",
       "    .dataframe tbody tr th:only-of-type {\n",
       "        vertical-align: middle;\n",
       "    }\n",
       "\n",
       "    .dataframe tbody tr th {\n",
       "        vertical-align: top;\n",
       "    }\n",
       "\n",
       "    .dataframe thead th {\n",
       "        text-align: right;\n",
       "    }\n",
       "</style>\n",
       "<table border=\"1\" class=\"dataframe\">\n",
       "  <thead>\n",
       "    <tr style=\"text-align: right;\">\n",
       "      <th></th>\n",
       "      <th>Produto</th>\n",
       "      <th>Categoria do Produto</th>\n",
       "      <th>Preço</th>\n",
       "      <th>Frete</th>\n",
       "      <th>Data da Compra</th>\n",
       "      <th>Vendedor</th>\n",
       "      <th>Local da compra</th>\n",
       "      <th>Avaliação da compra</th>\n",
       "      <th>Tipo de pagamento</th>\n",
       "      <th>Quantidade de parcelas</th>\n",
       "      <th>lat</th>\n",
       "      <th>lon</th>\n",
       "    </tr>\n",
       "  </thead>\n",
       "  <tbody>\n",
       "    <tr>\n",
       "      <th>0</th>\n",
       "      <td>Modelagem preditiva</td>\n",
       "      <td>livros</td>\n",
       "      <td>92.45</td>\n",
       "      <td>5.609697</td>\n",
       "      <td>01/01/2020</td>\n",
       "      <td>Thiago Silva</td>\n",
       "      <td>BA</td>\n",
       "      <td>1</td>\n",
       "      <td>cartao_credito</td>\n",
       "      <td>3</td>\n",
       "      <td>-13.29</td>\n",
       "      <td>-41.71</td>\n",
       "    </tr>\n",
       "    <tr>\n",
       "      <th>1</th>\n",
       "      <td>Iniciando em programação</td>\n",
       "      <td>livros</td>\n",
       "      <td>43.84</td>\n",
       "      <td>0.000000</td>\n",
       "      <td>01/01/2020</td>\n",
       "      <td>Mariana Ferreira</td>\n",
       "      <td>SP</td>\n",
       "      <td>5</td>\n",
       "      <td>cartao_credito</td>\n",
       "      <td>1</td>\n",
       "      <td>-22.19</td>\n",
       "      <td>-48.79</td>\n",
       "    </tr>\n",
       "    <tr>\n",
       "      <th>2</th>\n",
       "      <td>Pandeiro</td>\n",
       "      <td>instrumentos musicais</td>\n",
       "      <td>87.18</td>\n",
       "      <td>2.226512</td>\n",
       "      <td>01/01/2020</td>\n",
       "      <td>Thiago Silva</td>\n",
       "      <td>RJ</td>\n",
       "      <td>4</td>\n",
       "      <td>cartao_credito</td>\n",
       "      <td>4</td>\n",
       "      <td>-22.25</td>\n",
       "      <td>-42.66</td>\n",
       "    </tr>\n",
       "    <tr>\n",
       "      <th>3</th>\n",
       "      <td>Corda de pular</td>\n",
       "      <td>esporte e lazer</td>\n",
       "      <td>13.65</td>\n",
       "      <td>1.257926</td>\n",
       "      <td>01/01/2020</td>\n",
       "      <td>Camila Ribeiro</td>\n",
       "      <td>RJ</td>\n",
       "      <td>4</td>\n",
       "      <td>boleto</td>\n",
       "      <td>1</td>\n",
       "      <td>-22.25</td>\n",
       "      <td>-42.66</td>\n",
       "    </tr>\n",
       "    <tr>\n",
       "      <th>4</th>\n",
       "      <td>Dinossauro Rex</td>\n",
       "      <td>brinquedos</td>\n",
       "      <td>28.32</td>\n",
       "      <td>2.039059</td>\n",
       "      <td>01/01/2020</td>\n",
       "      <td>Juliana Costa</td>\n",
       "      <td>RJ</td>\n",
       "      <td>1</td>\n",
       "      <td>cartao_debito</td>\n",
       "      <td>1</td>\n",
       "      <td>-22.25</td>\n",
       "      <td>-42.66</td>\n",
       "    </tr>\n",
       "  </tbody>\n",
       "</table>\n",
       "</div>"
      ],
      "text/plain": [
       "                    Produto   Categoria do Produto  Preço     Frete  \\\n",
       "0       Modelagem preditiva                 livros  92.45  5.609697   \n",
       "1  Iniciando em programação                 livros  43.84  0.000000   \n",
       "2                  Pandeiro  instrumentos musicais  87.18  2.226512   \n",
       "3            Corda de pular        esporte e lazer  13.65  1.257926   \n",
       "4            Dinossauro Rex             brinquedos  28.32  2.039059   \n",
       "\n",
       "  Data da Compra          Vendedor Local da compra  Avaliação da compra  \\\n",
       "0     01/01/2020      Thiago Silva              BA                    1   \n",
       "1     01/01/2020  Mariana Ferreira              SP                    5   \n",
       "2     01/01/2020      Thiago Silva              RJ                    4   \n",
       "3     01/01/2020    Camila Ribeiro              RJ                    4   \n",
       "4     01/01/2020     Juliana Costa              RJ                    1   \n",
       "\n",
       "  Tipo de pagamento  Quantidade de parcelas    lat    lon  \n",
       "0    cartao_credito                       3 -13.29 -41.71  \n",
       "1    cartao_credito                       1 -22.19 -48.79  \n",
       "2    cartao_credito                       4 -22.25 -42.66  \n",
       "3            boleto                       1 -22.25 -42.66  \n",
       "4     cartao_debito                       1 -22.25 -42.66  "
      ]
     },
     "execution_count": 6,
     "metadata": {},
     "output_type": "execute_result"
    }
   ],
   "source": [
    "df = pd.read_csv('vendas.csv')\n",
    "df.head()  # Exibir as primeiras linhas do dataset"
   ]
  },
  {
   "cell_type": "code",
   "execution_count": 11,
   "metadata": {},
   "outputs": [
    {
     "name": "stdout",
     "output_type": "stream",
     "text": [
      "<class 'pandas.core.frame.DataFrame'>\n",
      "RangeIndex: 9435 entries, 0 to 9434\n",
      "Data columns (total 12 columns):\n",
      " #   Column                  Non-Null Count  Dtype  \n",
      "---  ------                  --------------  -----  \n",
      " 0   Produto                 9435 non-null   object \n",
      " 1   Categoria do Produto    9435 non-null   object \n",
      " 2   Preço                   9435 non-null   float64\n",
      " 3   Frete                   9435 non-null   float64\n",
      " 4   Data da Compra          9435 non-null   object \n",
      " 5   Vendedor                9435 non-null   object \n",
      " 6   Local da compra         9435 non-null   object \n",
      " 7   Avaliação da compra     9435 non-null   int64  \n",
      " 8   Tipo de pagamento       9435 non-null   object \n",
      " 9   Quantidade de parcelas  9435 non-null   int64  \n",
      " 10  lat                     9435 non-null   float64\n",
      " 11  lon                     9435 non-null   float64\n",
      "dtypes: float64(4), int64(2), object(6)\n",
      "memory usage: 884.7+ KB\n"
     ]
    }
   ],
   "source": [
    "df.info()"
   ]
  },
  {
   "cell_type": "markdown",
   "metadata": {},
   "source": [
    "Tratamento e Limpeza de Dados 🧹"
   ]
  },
  {
   "cell_type": "code",
   "execution_count": 7,
   "metadata": {},
   "outputs": [
    {
     "name": "stdout",
     "output_type": "stream",
     "text": [
      "<class 'pandas.core.frame.DataFrame'>\n",
      "RangeIndex: 9435 entries, 0 to 9434\n",
      "Data columns (total 12 columns):\n",
      " #   Column                  Non-Null Count  Dtype  \n",
      "---  ------                  --------------  -----  \n",
      " 0   Produto                 9435 non-null   object \n",
      " 1   Categoria do Produto    9435 non-null   object \n",
      " 2   Preço                   9435 non-null   float64\n",
      " 3   Frete                   9435 non-null   float64\n",
      " 4   Data da Compra          9435 non-null   object \n",
      " 5   Vendedor                9435 non-null   object \n",
      " 6   Local da compra         9435 non-null   object \n",
      " 7   Avaliação da compra     9435 non-null   int64  \n",
      " 8   Tipo de pagamento       9435 non-null   object \n",
      " 9   Quantidade de parcelas  9435 non-null   int64  \n",
      " 10  lat                     9435 non-null   float64\n",
      " 11  lon                     9435 non-null   float64\n",
      "dtypes: float64(4), int64(2), object(6)\n",
      "memory usage: 884.7+ KB\n"
     ]
    }
   ],
   "source": [
    "#Verificando informações gerais do dataset\n",
    "df.info()"
   ]
  },
  {
   "cell_type": "code",
   "execution_count": 8,
   "metadata": {},
   "outputs": [
    {
     "data": {
      "text/plain": [
       "Produto                   0\n",
       "Categoria do Produto      0\n",
       "Preço                     0\n",
       "Frete                     0\n",
       "Data da Compra            0\n",
       "Vendedor                  0\n",
       "Local da compra           0\n",
       "Avaliação da compra       0\n",
       "Tipo de pagamento         0\n",
       "Quantidade de parcelas    0\n",
       "lat                       0\n",
       "lon                       0\n",
       "dtype: int64"
      ]
     },
     "execution_count": 8,
     "metadata": {},
     "output_type": "execute_result"
    }
   ],
   "source": [
    "#Verificando valores nulos\n",
    "df.isnull().sum()"
   ]
  },
  {
   "cell_type": "code",
   "execution_count": 9,
   "metadata": {},
   "outputs": [
    {
     "data": {
      "text/plain": [
       "(9435, 12)"
      ]
     },
     "execution_count": 9,
     "metadata": {},
     "output_type": "execute_result"
    }
   ],
   "source": [
    "#Removendo duplicatas\n",
    "df = df.drop_duplicates()\n",
    "df.shape"
   ]
  },
  {
   "cell_type": "code",
   "execution_count": 12,
   "metadata": {},
   "outputs": [],
   "source": [
    "#Convertendo \"Data da Compra\" para o formato de data\n",
    "df['Data da Compra'] = pd.to_datetime(df['Data da Compra'], dayfirst=True)"
   ]
  },
  {
   "cell_type": "code",
   "execution_count": 13,
   "metadata": {},
   "outputs": [
    {
     "name": "stdout",
     "output_type": "stream",
     "text": [
      "<class 'pandas.core.frame.DataFrame'>\n",
      "RangeIndex: 9435 entries, 0 to 9434\n",
      "Data columns (total 12 columns):\n",
      " #   Column                  Non-Null Count  Dtype         \n",
      "---  ------                  --------------  -----         \n",
      " 0   Produto                 9435 non-null   object        \n",
      " 1   Categoria do Produto    9435 non-null   object        \n",
      " 2   Preço                   9435 non-null   float64       \n",
      " 3   Frete                   9435 non-null   float64       \n",
      " 4   Data da Compra          9435 non-null   datetime64[ns]\n",
      " 5   Vendedor                9435 non-null   object        \n",
      " 6   Local da compra         9435 non-null   object        \n",
      " 7   Avaliação da compra     9435 non-null   int64         \n",
      " 8   Tipo de pagamento       9435 non-null   object        \n",
      " 9   Quantidade de parcelas  9435 non-null   int64         \n",
      " 10  lat                     9435 non-null   float64       \n",
      " 11  lon                     9435 non-null   float64       \n",
      "dtypes: datetime64[ns](1), float64(4), int64(2), object(5)\n",
      "memory usage: 884.7+ KB\n"
     ]
    }
   ],
   "source": [
    "df.info()"
   ]
  },
  {
   "cell_type": "markdown",
   "metadata": {},
   "source": [
    "Análise Estatística 📊"
   ]
  },
  {
   "cell_type": "code",
   "execution_count": 14,
   "metadata": {},
   "outputs": [
    {
     "data": {
      "text/html": [
       "<div>\n",
       "<style scoped>\n",
       "    .dataframe tbody tr th:only-of-type {\n",
       "        vertical-align: middle;\n",
       "    }\n",
       "\n",
       "    .dataframe tbody tr th {\n",
       "        vertical-align: top;\n",
       "    }\n",
       "\n",
       "    .dataframe thead th {\n",
       "        text-align: right;\n",
       "    }\n",
       "</style>\n",
       "<table border=\"1\" class=\"dataframe\">\n",
       "  <thead>\n",
       "    <tr style=\"text-align: right;\">\n",
       "      <th></th>\n",
       "      <th>Preço</th>\n",
       "      <th>Frete</th>\n",
       "      <th>Data da Compra</th>\n",
       "      <th>Avaliação da compra</th>\n",
       "      <th>Quantidade de parcelas</th>\n",
       "      <th>lat</th>\n",
       "      <th>lon</th>\n",
       "    </tr>\n",
       "  </thead>\n",
       "  <tbody>\n",
       "    <tr>\n",
       "      <th>count</th>\n",
       "      <td>9435.000000</td>\n",
       "      <td>9435.000000</td>\n",
       "      <td>9435</td>\n",
       "      <td>9435.000000</td>\n",
       "      <td>9435.000000</td>\n",
       "      <td>9435.000000</td>\n",
       "      <td>9435.000000</td>\n",
       "    </tr>\n",
       "    <tr>\n",
       "      <th>mean</th>\n",
       "      <td>622.309570</td>\n",
       "      <td>33.167002</td>\n",
       "      <td>2021-08-16 07:36:48.076311552</td>\n",
       "      <td>4.014520</td>\n",
       "      <td>2.927398</td>\n",
       "      <td>-20.534059</td>\n",
       "      <td>-47.171176</td>\n",
       "    </tr>\n",
       "    <tr>\n",
       "      <th>min</th>\n",
       "      <td>10.070000</td>\n",
       "      <td>0.000000</td>\n",
       "      <td>2020-01-01 00:00:00</td>\n",
       "      <td>1.000000</td>\n",
       "      <td>1.000000</td>\n",
       "      <td>-30.170000</td>\n",
       "      <td>-70.550000</td>\n",
       "    </tr>\n",
       "    <tr>\n",
       "      <th>25%</th>\n",
       "      <td>73.610000</td>\n",
       "      <td>4.009423</td>\n",
       "      <td>2020-10-27 00:00:00</td>\n",
       "      <td>3.000000</td>\n",
       "      <td>1.000000</td>\n",
       "      <td>-22.250000</td>\n",
       "      <td>-48.790000</td>\n",
       "    </tr>\n",
       "    <tr>\n",
       "      <th>50%</th>\n",
       "      <td>295.350000</td>\n",
       "      <td>15.648481</td>\n",
       "      <td>2021-08-22 00:00:00</td>\n",
       "      <td>5.000000</td>\n",
       "      <td>1.000000</td>\n",
       "      <td>-22.190000</td>\n",
       "      <td>-48.790000</td>\n",
       "    </tr>\n",
       "    <tr>\n",
       "      <th>75%</th>\n",
       "      <td>884.405000</td>\n",
       "      <td>46.591030</td>\n",
       "      <td>2022-06-04 12:00:00</td>\n",
       "      <td>5.000000</td>\n",
       "      <td>4.000000</td>\n",
       "      <td>-18.100000</td>\n",
       "      <td>-44.380000</td>\n",
       "    </tr>\n",
       "    <tr>\n",
       "      <th>max</th>\n",
       "      <td>3969.380000</td>\n",
       "      <td>216.707633</td>\n",
       "      <td>2023-03-31 00:00:00</td>\n",
       "      <td>5.000000</td>\n",
       "      <td>24.000000</td>\n",
       "      <td>1.990000</td>\n",
       "      <td>-36.590000</td>\n",
       "    </tr>\n",
       "    <tr>\n",
       "      <th>std</th>\n",
       "      <td>787.094508</td>\n",
       "      <td>41.973711</td>\n",
       "      <td>NaN</td>\n",
       "      <td>1.390518</td>\n",
       "      <td>2.802776</td>\n",
       "      <td>5.399153</td>\n",
       "      <td>4.177887</td>\n",
       "    </tr>\n",
       "  </tbody>\n",
       "</table>\n",
       "</div>"
      ],
      "text/plain": [
       "             Preço        Frete                 Data da Compra  \\\n",
       "count  9435.000000  9435.000000                           9435   \n",
       "mean    622.309570    33.167002  2021-08-16 07:36:48.076311552   \n",
       "min      10.070000     0.000000            2020-01-01 00:00:00   \n",
       "25%      73.610000     4.009423            2020-10-27 00:00:00   \n",
       "50%     295.350000    15.648481            2021-08-22 00:00:00   \n",
       "75%     884.405000    46.591030            2022-06-04 12:00:00   \n",
       "max    3969.380000   216.707633            2023-03-31 00:00:00   \n",
       "std     787.094508    41.973711                            NaN   \n",
       "\n",
       "       Avaliação da compra  Quantidade de parcelas          lat          lon  \n",
       "count          9435.000000             9435.000000  9435.000000  9435.000000  \n",
       "mean              4.014520                2.927398   -20.534059   -47.171176  \n",
       "min               1.000000                1.000000   -30.170000   -70.550000  \n",
       "25%               3.000000                1.000000   -22.250000   -48.790000  \n",
       "50%               5.000000                1.000000   -22.190000   -48.790000  \n",
       "75%               5.000000                4.000000   -18.100000   -44.380000  \n",
       "max               5.000000               24.000000     1.990000   -36.590000  \n",
       "std               1.390518                2.802776     5.399153     4.177887  "
      ]
     },
     "execution_count": 14,
     "metadata": {},
     "output_type": "execute_result"
    }
   ],
   "source": [
    "df.describe()"
   ]
  },
  {
   "cell_type": "markdown",
   "metadata": {},
   "source": [
    "Visualização de Dados 📉"
   ]
  },
  {
   "cell_type": "code",
   "execution_count": 15,
   "metadata": {},
   "outputs": [
    {
     "data": {
      "image/png": "[encoded data removed]",
      "text/plain": [
       "<Figure size 1000x500 with 1 Axes>"
      ]
     },
     "metadata": {},
     "output_type": "display_data"
    }
   ],
   "source": [
    "#Distribuição dos preços dos produtos\n",
    "plt.figure(figsize=(10,5))\n",
    "sns.histplot(df['Preço'], bins=30, kde=True)\n",
    "plt.title('Distribuição dos Preços dos Produtos')\n",
    "plt.xlabel('Preço')\n",
    "plt.ylabel('Frequência')\n",
    "plt.show()\n"
   ]
  },
  {
   "cell_type": "code",
   "execution_count": 16,
   "metadata": {},
   "outputs": [
    {
     "data": {
      "image/png": "[encoded data removed]",
      "text/plain": [
       "<Figure size 1200x600 with 1 Axes>"
      ]
     },
     "metadata": {},
     "output_type": "display_data"
    }
   ],
   "source": [
    "#Quantidade de vendas por categoria\n",
    "plt.figure(figsize=(12,6))\n",
    "sns.countplot(y=df['Categoria do Produto'], order=df['Categoria do Produto'].value_counts().index)\n",
    "plt.title('Quantidade de Vendas por Categoria')\n",
    "plt.xlabel('Quantidade')\n",
    "plt.ylabel('Categoria')\n",
    "plt.show()\n"
   ]
  },
  {
   "cell_type": "markdown",
   "metadata": {},
   "source": [
    "Exportação do Dataset Tratado para CSV 💾"
   ]
  },
  {
   "cell_type": "code",
   "execution_count": 17,
   "metadata": {},
   "outputs": [
    {
     "name": "stdout",
     "output_type": "stream",
     "text": [
      "Arquivo CSV exportado com sucesso!\n"
     ]
    }
   ],
   "source": [
    "df.to_csv('vendas_tratadas.csv', index=False, encoding='utf-8')\n",
    "print('Arquivo CSV exportado com sucesso!')"
   ]
  }
 ],
 "metadata": {
  "kernelspec": {
   "display_name": "digital",
   "language": "python",
   "name": "python3"
  },
  "language_info": {
   "codemirror_mode": {
    "name": "ipython",
    "version": 3
   },
   "file_extension": ".py",
   "mimetype": "text/x-python",
   "name": "python",
   "nbconvert_exporter": "python",
   "pygments_lexer": "ipython3",
   "version": "3.11.4"
  }
 },
 "nbformat": 4,
 "nbformat_minor": 2
}
